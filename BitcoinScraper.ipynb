{
 "cells": [
  {
   "cell_type": "markdown",
   "metadata": {},
   "source": [
    "json to dict learning"
   ]
  },
  {
   "cell_type": "code",
   "execution_count": 55,
   "metadata": {},
   "outputs": [],
   "source": [
    "#connecting to a resrouce on the internet\n",
    "\n",
    "from urllib import request\n",
    "import json\n",
    "from pprint import pprint\n",
    "import time\n",
    "from collections import defaultdict"
   ]
  },
  {
   "cell_type": "code",
   "execution_count": 3,
   "metadata": {},
   "outputs": [],
   "source": [
    "url = 'https://api.coindesk.com/v1/bpi/currentprice.json'"
   ]
  },
  {
   "cell_type": "code",
   "execution_count": 4,
   "metadata": {},
   "outputs": [],
   "source": [
    "h = {'User-Agent': 'Mozilla/5.0 (Windows NT 10.0; Win64; x64) AppleWebKit/537.36 (KHTML, like Gecko) Chrome/77.0.3865.120 Safari/537.36'}"
   ]
  },
  {
   "cell_type": "code",
   "execution_count": 8,
   "metadata": {},
   "outputs": [],
   "source": [
    "req = request.Request(url = url, headers = h)\n",
    "#to open up url connection\n",
    "with request.urlopen(req) as r:\n",
    "    data = json.load(r) #step 2: convert 'data' into a dictionary"
   ]
  },
  {
   "cell_type": "code",
   "execution_count": 31,
   "metadata": {},
   "outputs": [
    {
     "ename": "NameError",
     "evalue": "name 'time' is not defined",
     "output_type": "error",
     "traceback": [
      "\u001b[1;31m---------------------------------------------------------------------------\u001b[0m",
      "\u001b[1;31mNameError\u001b[0m                                 Traceback (most recent call last)",
      "\u001b[1;32m<ipython-input-31-70f8cee314ed>\u001b[0m in \u001b[0;36m<module>\u001b[1;34m\u001b[0m\n\u001b[1;32m----> 1\u001b[1;33m \u001b[0mtime\u001b[0m\u001b[1;33m.\u001b[0m\u001b[0msleep\u001b[0m\u001b[1;33m(\u001b[0m\u001b[1;36m60\u001b[0m\u001b[1;33m)\u001b[0m\u001b[1;33m\u001b[0m\u001b[1;33m\u001b[0m\u001b[0m\n\u001b[0m",
      "\u001b[1;31mNameError\u001b[0m: name 'time' is not defined"
     ]
    }
   ],
   "source": []
  },
  {
   "cell_type": "code",
   "execution_count": 12,
   "metadata": {},
   "outputs": [
    {
     "name": "stdout",
     "output_type": "stream",
     "text": [
      "{'bpi': {'EUR': {'code': 'EUR',\n",
      "                 'description': 'Euro',\n",
      "                 'rate': '8,535.8706',\n",
      "                 'rate_float': 8535.8706,\n",
      "                 'symbol': '&euro;'},\n",
      "         'GBP': {'code': 'GBP',\n",
      "                 'description': 'British Pound Sterling',\n",
      "                 'rate': '7,375.5592',\n",
      "                 'rate_float': 7375.5592,\n",
      "                 'symbol': '&pound;'},\n",
      "         'USD': {'code': 'USD',\n",
      "                 'description': 'United States Dollar',\n",
      "                 'rate': '9,455.7967',\n",
      "                 'rate_float': 9455.7967,\n",
      "                 'symbol': '&#36;'}},\n",
      " 'chartName': 'Bitcoin',\n",
      " 'disclaimer': 'This data was produced from the CoinDesk Bitcoin Price Index '\n",
      "               '(USD). Non-USD currency data converted using hourly conversion '\n",
      "               'rate from openexchangerates.org',\n",
      " 'time': {'updated': 'Oct 29, 2019 10:33:00 UTC',\n",
      "          'updatedISO': '2019-10-29T10:33:00+00:00',\n",
      "          'updateduk': 'Oct 29, 2019 at 10:33 GMT'}}\n"
     ]
    }
   ],
   "source": [
    "pprint(data)"
   ]
  },
  {
   "cell_type": "code",
   "execution_count": 15,
   "metadata": {},
   "outputs": [
    {
     "data": {
      "text/plain": [
       "{'updated': 'Oct 29, 2019 10:33:00 UTC', 'updatedISO': '2019-10-29T10:33:00+00:00', 'updateduk': 'Oct 29, 2019 at 10:33 GMT'}"
      ]
     },
     "execution_count": 15,
     "metadata": {},
     "output_type": "execute_result"
    }
   ],
   "source": [
    "data.get('time')"
   ]
  },
  {
   "cell_type": "code",
   "execution_count": 16,
   "metadata": {},
   "outputs": [
    {
     "data": {
      "text/plain": [
       "dict_keys(['updated', 'updatedISO', 'updateduk'])"
      ]
     },
     "execution_count": 16,
     "metadata": {},
     "output_type": "execute_result"
    }
   ],
   "source": [
    "#get the keys of the nested loop\n",
    "data['time'].keys()"
   ]
  },
  {
   "cell_type": "code",
   "execution_count": 24,
   "metadata": {},
   "outputs": [],
   "source": [
    "#create 3 variables, to hold the rate as a float, in euros, gbp, and usd\n",
    "\n",
    "eur_rate = data['bpi'].get('EUR').get('rate_float')# or eur_rate = data['bpi']['eur']['rate_float'] or eur_rate = data['bpi']['eur'].get('rate_float')"
   ]
  },
  {
   "cell_type": "code",
   "execution_count": 28,
   "metadata": {},
   "outputs": [],
   "source": [
    "gbp_rate = data['bpi'].get('GBP').get('rate_float')"
   ]
  },
  {
   "cell_type": "code",
   "execution_count": 29,
   "metadata": {},
   "outputs": [],
   "source": [
    "usd_rate = data['bpi'].get('USD').get('rate_float')"
   ]
  },
  {
   "cell_type": "code",
   "execution_count": 33,
   "metadata": {},
   "outputs": [
    {
     "data": {
      "text/plain": [
       "8535.8706"
      ]
     },
     "execution_count": 33,
     "metadata": {},
     "output_type": "execute_result"
    }
   ],
   "source": [
    "eur_rate2 = data['bpi']['EUR'].get('rate_float')\n",
    "eur_rate2"
   ]
  },
  {
   "cell_type": "code",
   "execution_count": 44,
   "metadata": {},
   "outputs": [],
   "source": [
    "btc = []\n",
    "for t in range (0,5):\n",
    "    req = request.Request(url = url, headers = h)\n",
    "    with request.urlopen(req) as r:\n",
    "        data = json.load(r)\n",
    "    time_dict = {'time':data['time']['updated'], 'EUR':eur_rate, 'GBP': gbp_rate, 'USD': usd_rate}\n",
    "    btc.append(time_dict)\n",
    "    \n",
    "    time.sleep(60)\n",
    "    "
   ]
  },
  {
   "cell_type": "code",
   "execution_count": 56,
   "metadata": {},
   "outputs": [
    {
     "name": "stdout",
     "output_type": "stream",
     "text": [
      "[{'EUR': 8515.0651,\n",
      "  'GBP': '7,375.5592',\n",
      "  'USD': '9,455.7967',\n",
      "  'time': 'Oct 29, 2019 12:02:00 UTC'}]\n"
     ]
    }
   ],
   "source": [
    "pprint(btc)\n"
   ]
  },
  {
   "cell_type": "code",
   "execution_count": 57,
   "metadata": {},
   "outputs": [],
   "source": [
    "btc = []\n",
    "for t in range (0,5):\n",
    "    req = request.Request(url = url, headers = h)\n",
    "    with request.urlopen(req) as r:\n",
    "        data = json.load(r)\n",
    "    time_dict = {'time':data['time']['updated'], 'EUR':data['bpi'].get('EUR').get('rate_float'), 'GBP': gbp_rate, 'USD': usd_rate}\n",
    "    btc.append(time_dict)\n",
    "    \n",
    "    time.sleep(10)"
   ]
  },
  {
   "cell_type": "code",
   "execution_count": 58,
   "metadata": {},
   "outputs": [],
   "source": [
    "dd = defaultdict(list)"
   ]
  },
  {
   "cell_type": "code",
   "execution_count": 59,
   "metadata": {},
   "outputs": [],
   "source": [
    "dd['rates'].append('EUR')"
   ]
  },
  {
   "cell_type": "code",
   "execution_count": 62,
   "metadata": {},
   "outputs": [],
   "source": [
    "dd['rates'].extend(['EUR','GBP','USD'])"
   ]
  },
  {
   "cell_type": "code",
   "execution_count": 63,
   "metadata": {},
   "outputs": [],
   "source": [
    "ccy = set()"
   ]
  },
  {
   "cell_type": "code",
   "execution_count": 64,
   "metadata": {},
   "outputs": [],
   "source": [
    "ccy.add('GBP')"
   ]
  },
  {
   "cell_type": "code",
   "execution_count": 65,
   "metadata": {},
   "outputs": [],
   "source": [
    "ccyl = ['usd', 'gbp', 'gbp']"
   ]
  },
  {
   "cell_type": "code",
   "execution_count": null,
   "metadata": {},
   "outputs": [],
   "source": []
  }
 ],
 "metadata": {
  "kernelspec": {
   "display_name": "Python 3",
   "language": "python",
   "name": "python3"
  },
  "language_info": {
   "codemirror_mode": {
    "name": "ipython",
    "version": 3
   },
   "file_extension": ".py",
   "mimetype": "text/x-python",
   "name": "python",
   "nbconvert_exporter": "python",
   "pygments_lexer": "ipython3",
   "version": "3.6.4"
  }
 },
 "nbformat": 4,
 "nbformat_minor": 4
}
