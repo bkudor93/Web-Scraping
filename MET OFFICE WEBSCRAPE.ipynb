{
 "cells": [
  {
   "cell_type": "markdown",
   "metadata": {},
   "source": [
    "### Met Office Webscrape"
   ]
  },
  {
   "cell_type": "markdown",
   "metadata": {},
   "source": [
    "##### api key: f79cda77-e17c-47a1-89b7-6215ea639b18"
   ]
  },
  {
   "cell_type": "code",
   "execution_count": null,
   "metadata": {},
   "outputs": [],
   "source": [
    "from urllib import request\n",
    "import json\n",
    "import pickle\n",
    "from bs4 import BeautifulSoup\n",
    "from pprint import pprint\n",
    "import re"
   ]
  },
  {
   "cell_type": "code",
   "execution_count": null,
   "metadata": {},
   "outputs": [],
   "source": [
    "url = 'http://datapoint.metoffice.gov.uk/public/data/val/wxfcs/all/json/sitelist?key=f79cda77-e17c-47a1-89b7-6215ea639b18'\n",
    "h ={'User-Agent': 'Mozilla/5.0 (Windows NT 10.0; Win64; x64) AppleWebKit/537.36 (KHTML, like Gecko) Chrome/77.0.3865.120 Safari/537.36'}"
   ]
  },
  {
   "cell_type": "code",
   "execution_count": null,
   "metadata": {},
   "outputs": [],
   "source": [
    "req = request.Request(url, headers = h)\n",
    "with request.urlopen(req) as r:\n",
    "    data = json.load(r)"
   ]
  },
  {
   "cell_type": "code",
   "execution_count": null,
   "metadata": {},
   "outputs": [],
   "source": [
    "location = data['Locations']['Location']"
   ]
  },
  {
   "cell_type": "code",
   "execution_count": null,
   "metadata": {},
   "outputs": [],
   "source": [
    "re.findall"
   ]
  },
  {
   "cell_type": "code",
   "execution_count": null,
   "metadata": {},
   "outputs": [],
   "source": [
    "beach_id = []"
   ]
  },
  {
   "cell_type": "code",
   "execution_count": null,
   "metadata": {},
   "outputs": [],
   "source": [
    "for l in location:\n",
    "    #match = re.search('\\beach', data)\n",
    "    if re.findall('Beach', l['name']):\n",
    "        beach_id.append(l.get('id'))\n",
    "\n",
    "    "
   ]
  },
  {
   "cell_type": "code",
   "execution_count": null,
   "metadata": {},
   "outputs": [],
   "source": [
    "uv_data = []\n",
    "for b in beach_id:\n",
    "    url = 'http://datapoint.metoffice.gov.uk/public/data/val/wxfcs/all/json/'+b+'?res=daily&key=f79cda77-e17c-47a1-89b7-6215ea639b18'\n",
    "    req = request.Request(url, headers = h)\n",
    "    with request.urlopen(req) as r:\n",
    "        data = json.load(r)\n",
    "    uv_data.append(data)\n",
    "    "
   ]
  },
  {
   "cell_type": "code",
   "execution_count": null,
   "metadata": {},
   "outputs": [],
   "source": [
    "new_data = []\n",
    "for x in range(0, len(uv_data)):\n",
    "    d = uv_data[x]['SiteRep'].get('DV').get('Location')\n",
    "    new_data.append(d)"
   ]
  },
  {
   "cell_type": "code",
   "execution_count": 204,
   "metadata": {},
   "outputs": [],
   "source": [
    "uv_levels_final = []\n",
    "for d in new_data:\n",
    "    name = d.get('name')\n",
    "    inner_dict = {d.get('Period')[0].get('value'):d.get('Period')[0].get('Rep')[0].get('U'), d.get('Period')[1].get('value'):d.get('Period')[1].get('Rep')[0].get('U'),\\\n",
    "                 d.get('Period')[2].get('value'):d.get('Period')[2].get('Rep')[0].get('U'),d.get('Period')[3].get('value'):d.get('Period')[3].get('Rep')[0].get('U'),d.get('Period')[4].get('value'):d.get('Period')[4].get('Rep')[0].get('U')}\n",
    "    uv_levels_final.append({'site name':name, 'UV Level for the next 5 days':inner_dict})"
   ]
  },
  {
   "cell_type": "code",
   "execution_count": 209,
   "metadata": {},
   "outputs": [
    {
     "data": {
      "text/plain": [
       "459"
      ]
     },
     "execution_count": 209,
     "metadata": {},
     "output_type": "execute_result"
    }
   ],
   "source": [
    "len(uv_levels_final)"
   ]
  },
  {
   "cell_type": "code",
   "execution_count": 211,
   "metadata": {},
   "outputs": [],
   "source": [
    "pickle.dump(uv_levels_final, open(r'./uv_results_brigittekudor.pkl','wb'))"
   ]
  },
  {
   "cell_type": "code",
   "execution_count": 216,
   "metadata": {},
   "outputs": [],
   "source": [
    "tableau_uv_met = []\n",
    "for d in new_data:\n",
    "    name = d.get('name')\n",
    "    inner_dict = {d.get('Period')[0].get('value'):d.get('Period')[0].get('Rep')[0].get('U'), d.get('Period')[1].get('value'):d.get('Period')[1].get('Rep')[0].get('U'),\\\n",
    "                 d.get('Period')[2].get('value'):d.get('Period')[2].get('Rep')[0].get('U'),d.get('Period')[3].get('value'):d.get('Period')[3].get('Rep')[0].get('U'),d.get('Period')[4].get('value'):d.get('Period')[4].get('Rep')[0].get('U')}\n",
    "    tableau_uv_met.append({'site name':name,'longitude':d.get('lon'),'latitude':d.get('lat'), 'UV Level for the next 5 days':inner_dict})\n"
   ]
  },
  {
   "cell_type": "code",
   "execution_count": 218,
   "metadata": {},
   "outputs": [],
   "source": [
    "json.dump(tableau_uv_met, open(r'./met_uv_data_tableau.json', 'w'))"
   ]
  },
  {
   "cell_type": "code",
   "execution_count": 232,
   "metadata": {},
   "outputs": [],
   "source": [
    "uv_levels_2 = []\n",
    "for d in new_data:\n",
    "    for i in range(0,5):\n",
    "        inner_dict.update({d.get('Period')[i].get('value'):d.get('Period')[i].get('Rep')[0].get('U')})\n",
    "    loc_dict = {'site name':d.get('name'), 'UV Level for the next 5 days':inner_dict}\n",
    "    uv_levels_2.append(loc_dict)"
   ]
  },
  {
   "cell_type": "code",
   "execution_count": 233,
   "metadata": {},
   "outputs": [
    {
     "name": "stdout",
     "output_type": "stream",
     "text": [
      "{'UV Level for the next 5 days': {'2019-11-04Z': '1',\n",
      "                                  '2019-11-05Z': '1',\n",
      "                                  '2019-11-06Z': '1',\n",
      "                                  '2019-11-07Z': '1',\n",
      "                                  '2019-11-08Z': '1'},\n",
      " 'site name': 'OCEAN BEACH AMUSEMENT PARK RHYL'}\n"
     ]
    }
   ],
   "source": [
    "pprint(uv_levels_2[0])"
   ]
  },
  {
   "cell_type": "code",
   "execution_count": null,
   "metadata": {},
   "outputs": [],
   "source": []
  }
 ],
 "metadata": {
  "kernelspec": {
   "display_name": "Python 3",
   "language": "python",
   "name": "python3"
  },
  "language_info": {
   "codemirror_mode": {
    "name": "ipython",
    "version": 3
   },
   "file_extension": ".py",
   "mimetype": "text/x-python",
   "name": "python",
   "nbconvert_exporter": "python",
   "pygments_lexer": "ipython3",
   "version": "3.6.4"
  }
 },
 "nbformat": 4,
 "nbformat_minor": 4
}
