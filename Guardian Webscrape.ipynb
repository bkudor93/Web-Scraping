{
 "cells": [
  {
   "cell_type": "markdown",
   "metadata": {},
   "source": [
    "# Code to Scrape Guardian"
   ]
  },
  {
   "cell_type": "code",
   "execution_count": 79,
   "metadata": {},
   "outputs": [],
   "source": [
    "from urllib import request\n",
    "import time\n",
    "from bs4 import BeautifulSoup\n",
    "import pickle\n",
    "import pprint\n",
    "from datetime import datetime\n",
    "\n",
    "url = 'https://www.theguardian.com/football/premierleague/results'\n",
    "h ={'User-Agent': 'Mozilla/5.0 (Windows NT 10.0; Win64; x64) AppleWebKit/537.36 (KHTML, like Gecko) Chrome/77.0.3865.120 Safari/537.36'}\n",
    "\n",
    "req = request.Request(url, headers = h)\n",
    "with request.urlopen(req) as r:\n",
    "    soup = BeautifulSoup(r, 'html.parser')"
   ]
  },
  {
   "cell_type": "code",
   "execution_count": 63,
   "metadata": {},
   "outputs": [],
   "source": [
    "home_parse = soup.findAll('div', {'class':'football-match__team football-match__team--home football-team'})\n",
    "away_parse = soup.findAll('div', {'class':'football-match__team football-match__team--away football-team'})\n"
   ]
  },
  {
   "cell_type": "code",
   "execution_count": 69,
   "metadata": {},
   "outputs": [],
   "source": [
    "results = []\n",
    "for x, y in zip(home_parse,away_parse):\n",
    "    dict_res = {}\n",
    "    home = x.text.split()\n",
    "    away = y.text.split()\n",
    "    \n",
    "    if len(home) >2:\n",
    "        dict_res['home_team'] = home[0]+' '+home[1]\n",
    "        dict_res['home_score'] = home[2]\n",
    "    else:# elif len(home) == 2:\n",
    "        dict_res['home_team'] = home[0]\n",
    "        dict_res['home_score'] = home[1]\n",
    "    if len(away) >2:\n",
    "        dict_res['away_team'] = away[0]+' '+away[1]\n",
    "        dict_res['away_score'] = away[2]\n",
    "    else:\n",
    "        dict_res['away_team'] = away[0]\n",
    "        dict_res['away_score'] = away[1]\n",
    "    results.append(dict_res)\n"
   ]
  },
  {
   "cell_type": "code",
   "execution_count": 77,
   "metadata": {},
   "outputs": [],
   "source": [
    "dates = []\n",
    "date_parse = soup.findAll('div', {'class': 'date-divider'})\n",
    "for d in date_parse:\n",
    "    dates.append(d.text)"
   ]
  },
  {
   "cell_type": "code",
   "execution_count": 78,
   "metadata": {},
   "outputs": [
    {
     "data": {
      "text/plain": [
       "['Sunday 27 October 2019',\n",
       " 'Saturday 26 October 2019',\n",
       " 'Friday 25 October 2019',\n",
       " 'Monday 21 October 2019',\n",
       " 'Sunday 20 October 2019',\n",
       " 'Saturday 19 October 2019',\n",
       " 'Sunday 6 October 2019',\n",
       " 'Saturday 5 October 2019',\n",
       " 'Monday 30 September 2019',\n",
       " 'Sunday 29 September 2019',\n",
       " 'Saturday 28 September 2019',\n",
       " 'Sunday 22 September 2019',\n",
       " 'Saturday 21 September 2019',\n",
       " 'Friday 20 September 2019',\n",
       " 'Monday 16 September 2019',\n",
       " 'Sunday 15 September 2019',\n",
       " 'Saturday 14 September 2019',\n",
       " 'Sunday 1 September 2019',\n",
       " 'Saturday 31 August 2019',\n",
       " 'Sunday 25 August 2019']"
      ]
     },
     "execution_count": 78,
     "metadata": {},
     "output_type": "execute_result"
    }
   ],
   "source": [
    "dates"
   ]
  },
  {
   "cell_type": "code",
   "execution_count": null,
   "metadata": {},
   "outputs": [],
   "source": []
  },
  {
   "cell_type": "code",
   "execution_count": null,
   "metadata": {},
   "outputs": [],
   "source": []
  }
 ],
 "metadata": {
  "kernelspec": {
   "display_name": "Python 3",
   "language": "python",
   "name": "python3"
  },
  "language_info": {
   "codemirror_mode": {
    "name": "ipython",
    "version": 3
   },
   "file_extension": ".py",
   "mimetype": "text/x-python",
   "name": "python",
   "nbconvert_exporter": "python",
   "pygments_lexer": "ipython3",
   "version": "3.6.4"
  }
 },
 "nbformat": 4,
 "nbformat_minor": 4
}
