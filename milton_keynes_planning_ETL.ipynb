{
 "cells": [
  {
   "cell_type": "code",
   "execution_count": 1,
   "metadata": {},
   "outputs": [],
   "source": [
    "import csv\n",
    "import pyodbc\n",
    "from datetime import datetime,timedelta"
   ]
  },
  {
   "cell_type": "code",
   "execution_count": 2,
   "metadata": {},
   "outputs": [],
   "source": [
    "planningfile = r'c:\\data\\planning_data.csv'"
   ]
  },
  {
   "cell_type": "code",
   "execution_count": 3,
   "metadata": {},
   "outputs": [],
   "source": [
    "extract_date = []\n",
    "publisher_uri = []\n",
    "publisher_label = []\n",
    "organisation_uri = []\n",
    "organisation_label = []\n",
    "case_reference = []\n",
    "case_url = []\n",
    "case_date = []\n",
    "service_type_uri = []\n",
    "service_type_label = []\n",
    "classification_uri = []\n",
    "classification_label = []\n",
    "case_ = []\n",
    "location =[]\n",
    "decision_target_date = []\n",
    "status = []\n",
    "decision_date = []\n",
    "decision = []\n",
    "decision_type = []\n",
    "agent = []\n",
    "\n"
   ]
  },
  {
   "cell_type": "code",
   "execution_count": 4,
   "metadata": {},
   "outputs": [],
   "source": [
    "def clean_date(d):\n",
    "    try:\n",
    "        date = datetime.strptime(d, '%d/%m/%Y')\n",
    "    except:\n",
    "        date = None\n",
    "    return date"
   ]
  },
  {
   "cell_type": "code",
   "execution_count": 5,
   "metadata": {},
   "outputs": [
    {
     "data": {
      "text/plain": [
       "datetime.datetime(2019, 3, 5, 0, 0)"
      ]
     },
     "execution_count": 5,
     "metadata": {},
     "output_type": "execute_result"
    }
   ],
   "source": [
    "clean_date('05/03/2019')"
   ]
  },
  {
   "cell_type": "code",
   "execution_count": 7,
   "metadata": {},
   "outputs": [],
   "source": [
    "with open (planningfile, encoding = 'latin') as f:\n",
    "    reader = csv.DictReader(f)\n",
    "    for row in reader:\n",
    "        extract_date.append(clean_date(row['ExtractDate']))\n",
    "        publisher_uri.append(row['PublisherURI'])\n",
    "        publisher_label.append(row['PublisherLabel'])\n",
    "        organisation_uri.append(row['OrganisationURI'])\n",
    "        organisation_label.append(row['OrganisationLabel'])\n",
    "        case_reference.append(row['CaseReference'])\n",
    "        case_url.append(row['CaseURL'])\n",
    "        case_date.append(clean_date(row['CaseDate']))\n",
    "        service_type_uri.append(row['ServiceTypeURI'])\n",
    "        service_type_label.append(row['ServiceTypeLabel'])\n",
    "        classification_uri.append (row['ClassificationURI'])\n",
    "        classification_label.append(row['ClassificationLabel'])\n",
    "        case_.append(row['CaseText'])\n",
    "        location.append(row['LocationText'])\n",
    "        decision_target_date.append(clean_date(row['DecisionTargetDate']))\n",
    "        status.append(row['Status'])\n",
    "        decision_date.append(clean_date(row['DecisionDate']))\n",
    "        decision.append(row['Decision'])\n",
    "        decision_type.append(row['DecisionType'])\n",
    "        agent.append(row['Agent'])"
   ]
  },
  {
   "cell_type": "code",
   "execution_count": 8,
   "metadata": {},
   "outputs": [],
   "source": [
    "data = zip(extract_date, publisher_uri, publisher_label, organisation_uri, organisation_label, case_reference, case_url, case_date, service_type_uri, service_type_label, classification_uri, classification_label, case_, location, decision_target_date, status, decision_date, decision, decision_type, agent)"
   ]
  },
  {
   "cell_type": "code",
   "execution_count": null,
   "metadata": {},
   "outputs": [],
   "source": []
  },
  {
   "cell_type": "code",
   "execution_count": 19,
   "metadata": {},
   "outputs": [],
   "source": [
    "conn = pyodbc.connect('DSN=kubricksql;UID=de14;PWD=password')\n",
    "cur = conn.cursor()\n"
   ]
  },
  {
   "cell_type": "code",
   "execution_count": 15,
   "metadata": {},
   "outputs": [],
   "source": [
    "qapproved = 'insert into brigitte.approved(extract_date, publisher_uri, publisher_label, organisation_uri, organisation_label, case_reference, case_url, case_date, service_type_uri, service_type_label, classification_uri, classification_label, case_, location, decision_target_date, status, decision_date, decision, decision_type, agent) values (\\\n",
    "?,?,?,?,?,?,?,?,?,?,?,?,?,?,?,?,?,?,?,?)'\n",
    "qrejected = 'insert into brigitte.rejected(extract_date, publisher_uri, publisher_label, organisation_uri, organisation_label, case_reference, case_url, case_date, service_type_uri, service_type_label, classification_uri, classification_label, case_, location, decision_target_date, status, decision_date, decision, decision_type, agent) values (\\\n",
    "?,?,?,?,?,?,?,?,?,?,?,?,?,?,?,?,?,?,?,?)'\n",
    "qother = 'insert into brigitte.other(extract_date, publisher_uri, publisher_label, organisation_uri, organisation_label, case_reference, case_url, case_date, service_type_uri, service_type_label, classification_uri, classification_label, case_, location, decision_target_date, status, decision_date, decision, decision_type, agent) values (\\\n",
    "?,?,?,?,?,?,?,?,?,?,?,?,?,?,?,?,?,?,?,?)'"
   ]
  },
  {
   "cell_type": "code",
   "execution_count": 21,
   "metadata": {},
   "outputs": [],
   "source": [
    "for d in data:\n",
    "    if d[18] == 'Approve':\n",
    "        try:\n",
    "            cur.execute(qapproved,d)\n",
    "            conn.commit\n",
    "        except:\n",
    "            conn.rollback()\n",
    "    elif d[18] =='Refuse':\n",
    "        try:\n",
    "            cur.execute(qrejected,d)\n",
    "            conn.commit\n",
    "        except:\n",
    "            conn.rollback()\n",
    "    else:\n",
    "        try:\n",
    "            cur.execute(qother,d)\n",
    "            conn.commit\n",
    "        except:1\n",
    "            conn.rollback()\n",
    "    "
   ]
  },
  {
   "cell_type": "code",
   "execution_count": null,
   "metadata": {},
   "outputs": [],
   "source": []
  },
  {
   "cell_type": "code",
   "execution_count": null,
   "metadata": {},
   "outputs": [],
   "source": []
  }
 ],
 "metadata": {
  "kernelspec": {
   "display_name": "Python 3",
   "language": "python",
   "name": "python3"
  },
  "language_info": {
   "codemirror_mode": {
    "name": "ipython",
    "version": 3
   },
   "file_extension": ".py",
   "mimetype": "text/x-python",
   "name": "python",
   "nbconvert_exporter": "python",
   "pygments_lexer": "ipython3",
   "version": "3.6.4"
  }
 },
 "nbformat": 4,
 "nbformat_minor": 4
}
