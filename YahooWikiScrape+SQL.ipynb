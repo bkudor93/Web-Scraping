{
 "cells": [
  {
   "cell_type": "code",
   "execution_count": 67,
   "metadata": {},
   "outputs": [],
   "source": [
    "from yahoofinancials import YahooFinancials\n",
    "from pprint import pprint\n",
    "from datetime import datetime\n",
    "from urllib import request\n",
    "import json\n",
    "import pickle\n",
    "from bs4 import BeautifulSoup\n",
    "import nltk\n",
    "from nltk.corpus import stopwords\n",
    "import pyodbc\n",
    "from collections import Counter\n",
    "import re\n",
    "from nltk.tokenize import word_tokenize\n",
    "import requests"
   ]
  },
  {
   "cell_type": "markdown",
   "metadata": {},
   "source": [
    "## Yahoo Financials Data"
   ]
  },
  {
   "cell_type": "code",
   "execution_count": 4,
   "metadata": {},
   "outputs": [],
   "source": [
    "vis_stocks = ['MSFT', 'ORCL', 'AMZN', 'CRM']"
   ]
  },
  {
   "cell_type": "code",
   "execution_count": 5,
   "metadata": {},
   "outputs": [],
   "source": [
    "yahoo_financials_vis = YahooFinancials(vis_stocks)"
   ]
  },
  {
   "cell_type": "code",
   "execution_count": 6,
   "metadata": {},
   "outputs": [],
   "source": [
    "vis_balance_sheet_data = yahoo_financials_vis.get_financial_stmts('annual', 'balance')"
   ]
  },
  {
   "cell_type": "code",
   "execution_count": 7,
   "metadata": {},
   "outputs": [],
   "source": [
    "amazon_date = list(vis_balance_sheet_data.get('balanceSheetHistory').get('AMZN')[0].keys())[0]\n",
    "amazon_date = datetime.strptime(amazon_date, '%Y-%m-%d')"
   ]
  },
  {
   "cell_type": "code",
   "execution_count": 8,
   "metadata": {},
   "outputs": [],
   "source": [
    "crm_date = list(vis_balance_sheet_data.get('balanceSheetHistory').get('CRM')[0].keys())[0]\n",
    "crm_date = datetime.strptime(crm_date, '%Y-%m-%d')"
   ]
  },
  {
   "cell_type": "code",
   "execution_count": 9,
   "metadata": {},
   "outputs": [],
   "source": [
    "oracle_date = list(vis_balance_sheet_data.get('balanceSheetHistory').get('ORCL')[0].keys())[0]\n",
    "oracle_date = datetime.strptime(oracle_date, '%Y-%m-%d')"
   ]
  },
  {
   "cell_type": "code",
   "execution_count": 10,
   "metadata": {},
   "outputs": [],
   "source": [
    "microsoft_date = list(vis_balance_sheet_data.get('balanceSheetHistory').get('MSFT')[0].keys())[0]\n",
    "microsoft_date =datetime.strptime(microsoft_date, '%Y-%m-%d')"
   ]
  },
  {
   "cell_type": "code",
   "execution_count": 11,
   "metadata": {},
   "outputs": [],
   "source": [
    "amazon_balance_data = {'Ticker':list(vis_balance_sheet_data.get('balanceSheetHistory').keys())[2],\\\n",
    "                      'Financials Date': amazon_date,\\\n",
    "                      'Cash':vis_balance_sheet_data.get('balanceSheetHistory').get('AMZN')[0].get('2018-12-31').get('cash'),\\\n",
    "                      'Long Term Debt': vis_balance_sheet_data.get('balanceSheetHistory').get('AMZN')[0].get('2018-12-31').get('longTermDebt'),\n",
    "                      'Total Liability': vis_balance_sheet_data.get('balanceSheetHistory').get('AMZN')[0].get('2018-12-31').get('totalLiab'),\n",
    "                      'Total Assets': vis_balance_sheet_data.get('balanceSheetHistory').get('AMZN')[0].get('2018-12-31').get('totalAssets')}\n"
   ]
  },
  {
   "cell_type": "code",
   "execution_count": 12,
   "metadata": {},
   "outputs": [],
   "source": [
    "oracle_balance_data = {'Ticker':list(vis_balance_sheet_data.get('balanceSheetHistory').keys())[1],\\\n",
    "                      'Financials Date': oracle_date,\\\n",
    "                      'Cash':vis_balance_sheet_data.get('balanceSheetHistory').get('ORCL')[0].get('2019-05-31').get('cash'),\\\n",
    "                      'Long Term Debt': vis_balance_sheet_data.get('balanceSheetHistory').get('ORCL')[0].get('2019-05-31').get('longTermDebt'),\n",
    "                      'Total Liability': vis_balance_sheet_data.get('balanceSheetHistory').get('ORCL')[0].get('2019-05-31').get('totalLiab'),\n",
    "                      'Total Assets': vis_balance_sheet_data.get('balanceSheetHistory').get('ORCL')[0].get('2019-05-31').get('totalAssets')}"
   ]
  },
  {
   "cell_type": "code",
   "execution_count": 13,
   "metadata": {},
   "outputs": [],
   "source": [
    "microsoft_balance_data = {'Ticker':list(vis_balance_sheet_data.get('balanceSheetHistory').keys())[0],\\\n",
    "                      'Financials Date': microsoft_date,\\\n",
    "                      'Cash':vis_balance_sheet_data.get('balanceSheetHistory').get('MSFT')[0].get('2019-06-30').get('cash'),\\\n",
    "                      'Long Term Debt': vis_balance_sheet_data.get('balanceSheetHistory').get('MSFT')[0].get('2019-06-30').get('longTermDebt'),\n",
    "                      'Total Liability': vis_balance_sheet_data.get('balanceSheetHistory').get('MSFT')[0].get('2019-06-30').get('totalLiab'),\n",
    "                      'Total Assets': vis_balance_sheet_data.get('balanceSheetHistory').get('MSFT')[0].get('2019-06-30').get('totalAssets')}"
   ]
  },
  {
   "cell_type": "code",
   "execution_count": 14,
   "metadata": {},
   "outputs": [],
   "source": [
    "crm_balance_data = {'Ticker':list(vis_balance_sheet_data.get('balanceSheetHistory').keys())[3],\\\n",
    "                      'Financials Date': crm_date,\\\n",
    "                      'Cash':vis_balance_sheet_data.get('balanceSheetHistory').get('CRM')[0].get('2019-01-31').get('cash'),\\\n",
    "                      'Long Term Debt': vis_balance_sheet_data.get('balanceSheetHistory').get('CRM')[0].get('2019-01-31').get('longTermDebt'),\n",
    "                      'Total Liability': vis_balance_sheet_data.get('balanceSheetHistory').get('CRM')[0].get('2019-01-31').get('totalLiab'),\n",
    "                      'Total Assets': vis_balance_sheet_data.get('balanceSheetHistory').get('CRM')[0].get('2019-01-31').get('totalAssets')}"
   ]
  },
  {
   "cell_type": "code",
   "execution_count": 71,
   "metadata": {},
   "outputs": [
    {
     "data": {
      "text/plain": [
       "{'Ticker': 'CRM',\n",
       " 'Financials Date': datetime.datetime(2019, 1, 31, 0, 0),\n",
       " 'Cash': 2669000000,\n",
       " 'Long Term Debt': 3173000000,\n",
       " 'Total Liability': 15132000000,\n",
       " 'Total Assets': 30737000000}"
      ]
     },
     "execution_count": 71,
     "metadata": {},
     "output_type": "execute_result"
    }
   ],
   "source": []
  },
  {
   "cell_type": "markdown",
   "metadata": {},
   "source": [
    "### SQL connection"
   ]
  },
  {
   "cell_type": "code",
   "execution_count": 47,
   "metadata": {},
   "outputs": [],
   "source": [
    "conn = pyodbc.connect('DSN=brigitte_finance;''Database=finance;''Trusted_Connection=yes;')\n",
    "cur = conn.cursor()"
   ]
  },
  {
   "cell_type": "code",
   "execution_count": 48,
   "metadata": {},
   "outputs": [],
   "source": [
    "c = 'create Table Company(company_id INT IDENTITY PRIMARY KEY, company_name VARCHAR(100), Ticker VARCHAR(5), website VARCHAR(100), wiki_page VARCHAR (1000))'\n",
    "f = 'create Table Financials(financials_id INT IDENTITY PRIMARY KEY, company_id INT FOREIGN KEY REFERENCES Company(company_id), date DATE, cash FLOAT, long_term_debt FLOAT, total_liability FLOAT, total_assets FLOAT)'\n",
    "t = 'create Table Top_Words_By_Company(topwords_id INT IDENTITY PRIMARY KEY, company_id INT FOREIGN KEY REFERENCES Company(company_id), word1 VARCHAR(30), word2 VARCHAR(30), word3 VARCHAR(30), word4 VARCHAR(30), word5 VARCHAR(30), word6 VARCHAR(30), word7 VARCHAR(30), word8 VARCHAR(30), word9 VARCHAR(30),word10 VARCHAR(30))'"
   ]
  },
  {
   "cell_type": "code",
   "execution_count": 52,
   "metadata": {},
   "outputs": [
    {
     "ename": "ProgrammingError",
     "evalue": "('42S02', \"[42S02] [Microsoft][SQL Server Native Client 11.0][SQL Server]Cannot drop the table 'Company', because it does not exist or you do not have permission. (3701) (SQLExecDirectW)\")",
     "output_type": "error",
     "traceback": [
      "\u001b[1;31m---------------------------------------------------------------------------\u001b[0m",
      "\u001b[1;31mProgrammingError\u001b[0m                          Traceback (most recent call last)",
      "\u001b[1;32m<ipython-input-52-4b65f277b5a2>\u001b[0m in \u001b[0;36m<module>\u001b[1;34m\u001b[0m\n\u001b[0;32m      1\u001b[0m \u001b[0ma\u001b[0m \u001b[1;33m=\u001b[0m \u001b[1;34m'drop table Company'\u001b[0m\u001b[1;33m\u001b[0m\u001b[1;33m\u001b[0m\u001b[0m\n\u001b[1;32m----> 2\u001b[1;33m \u001b[0mcur\u001b[0m\u001b[1;33m.\u001b[0m\u001b[0mexecute\u001b[0m\u001b[1;33m(\u001b[0m\u001b[0ma\u001b[0m\u001b[1;33m)\u001b[0m\u001b[1;33m\u001b[0m\u001b[1;33m\u001b[0m\u001b[0m\n\u001b[0m\u001b[0;32m      3\u001b[0m \u001b[0mconn\u001b[0m\u001b[1;33m.\u001b[0m\u001b[0mcommit\u001b[0m\u001b[1;33m(\u001b[0m\u001b[1;33m)\u001b[0m\u001b[1;33m\u001b[0m\u001b[1;33m\u001b[0m\u001b[0m\n",
      "\u001b[1;31mProgrammingError\u001b[0m: ('42S02', \"[42S02] [Microsoft][SQL Server Native Client 11.0][SQL Server]Cannot drop the table 'Company', because it does not exist or you do not have permission. (3701) (SQLExecDirectW)\")"
     ]
    }
   ],
   "source": [
    "a = 'drop table Company'\n",
    "cur.execute(a)\n",
    "conn.commit()"
   ]
  },
  {
   "cell_type": "code",
   "execution_count": 53,
   "metadata": {},
   "outputs": [],
   "source": [
    "cur.execute(c)\n",
    "conn.commit()"
   ]
  },
  {
   "cell_type": "code",
   "execution_count": 54,
   "metadata": {},
   "outputs": [],
   "source": [
    "cur.execute(f)\n",
    "conn.commit()"
   ]
  },
  {
   "cell_type": "code",
   "execution_count": 55,
   "metadata": {},
   "outputs": [],
   "source": [
    "cur.execute(t)\n",
    "conn.commit()"
   ]
  },
  {
   "cell_type": "code",
   "execution_count": 57,
   "metadata": {},
   "outputs": [],
   "source": [
    "i1 = 'insert into Company(company_name, Ticker, website, wiki_page) values \\\n",
    "(\\'AMAZON\\', \\'AMZN\\', \\'https://www.amazon.com\\', \\'https://en.wikipedia.org/wiki/Amazon_(company)\\'),\\\n",
    "(\\'Microsoft\\', \\'MSFT\\', \\'https://www.microsoft.com/en-gb/\\', \\'https://en.wikipedia.org/wiki/Microsoft\\'),\\\n",
    "(\\'Oracle\\', \\'ORCL\\', \\'https://www.oracle.com/uk/index.html\\', \\'https://en.wikipedia.org/wiki/Oracle\\'),\\\n",
    "(\\'SalesForce\\', \\'CRM\\', \\'https://www.salesforce.com\\', \\'https://en.wikipedia.org/wiki/Salesforce.com\\')'\n",
    "\n",
    "cur.execute(i1)\n",
    "conn.commit()"
   ]
  },
  {
   "cell_type": "code",
   "execution_count": 59,
   "metadata": {},
   "outputs": [],
   "source": [
    "i2 = 'insert into Financials(company_id, date, cash, long_term_debt, total_liability, total_assets) values(?,?,?,?,?,?)'\n",
    "amzn_params = [1, amazon_balance_data.get('Financials Date'),amazon_balance_data.get('Cash'), amazon_balance_data.get('Long Term Debt'), amazon_balance_data.get('Total Liability'), amazon_balance_data.get('Total Assets')]\n",
    "msft_params = [2, microsoft_balance_data.get('Financials Date'), microsoft_balance_data.get('Cash'), microsoft_balance_data.get('Long Term Debt'), microsoft_balance_data.get('Total Liability'), microsoft_balance_data.get('Total Assets')]\n",
    "orcl_params = [3, oracle_balance_data.get('Financials Date'),oracle_balance_data.get('Cash'), oracle_balance_data.get('Long Term Debt'), oracle_balance_data.get('Total Liability'), oracle_balance_data.get('Total Assets')]\n",
    "crm_params = [4, crm_balance_data.get('Financials Date'), crm_balance_data.get('Cash'), crm_balance_data.get('Long Term Debt'), crm_balance_data.get('Total Liability'), crm_balance_data.get('Total Assets')]\n",
    "cur.execute(i2,amzn_params)\n",
    "cur.execute(i2, msft_params)\n",
    "cur.execute(i2, orcl_params)\n",
    "cur.execute(i2, crm_params)\n",
    "conn.commit()"
   ]
  },
  {
   "cell_type": "code",
   "execution_count": 60,
   "metadata": {},
   "outputs": [],
   "source": [
    "i3 = 'insert into Top_Words_By_Company(company_id, word1, word2, word3, word4, word5, word6, word7, word8, word9, word10) values(?,?,?,?,?,?,?,?,?,?,?)'\n",
    "amzn_words_params = [1, list_top_amzn[0], list_top_amzn[1], list_top_amzn[2], list_top_amzn[3], list_top_amzn[4], list_top_amzn[5], list_top_amzn[6], list_top_amzn[7], list_top_amzn[8], list_top_amzn[9]]\n",
    "msft_words_params = [2, list_top_msft[0], list_top_msft[1], list_top_msft[2], list_top_msft[3], list_top_msft[4], list_top_msft[5], list_top_msft[6], list_top_msft[7], list_top_msft[8], list_top_msft[9]]\n",
    "orcl_words_params = [3, list_top_orcl[0], list_top_orcl[1], list_top_orcl[2], list_top_orcl[3], list_top_orcl[4], list_top_orcl[5], list_top_orcl[6], list_top_orcl[7], list_top_orcl[8], list_top_orcl[9]]\n",
    "crm_words_params = [4, list_top_crm[0], list_top_crm[1], list_top_crm[2], list_top_crm[3], list_top_crm[4], list_top_crm[5], list_top_crm[6], list_top_crm[7], list_top_crm[8], list_top_crm[9]]\n",
    "\n",
    "cur.execute(i3, amzn_words_params)\n",
    "cur.execute(i3, msft_words_params)\n",
    "cur.execute(i3, orcl_words_params)\n",
    "cur.execute(i3, crm_words_params)\n",
    "conn.commit()"
   ]
  },
  {
   "cell_type": "code",
   "execution_count": null,
   "metadata": {},
   "outputs": [],
   "source": []
  },
  {
   "cell_type": "code",
   "execution_count": null,
   "metadata": {},
   "outputs": [],
   "source": []
  },
  {
   "cell_type": "code",
   "execution_count": null,
   "metadata": {},
   "outputs": [],
   "source": []
  },
  {
   "cell_type": "code",
   "execution_count": null,
   "metadata": {},
   "outputs": [],
   "source": []
  },
  {
   "cell_type": "markdown",
   "metadata": {},
   "source": [
    "## WIKI Webscrape"
   ]
  },
  {
   "cell_type": "markdown",
   "metadata": {},
   "source": [
    "#### Amazon Wiki Webscrape"
   ]
  },
  {
   "cell_type": "code",
   "execution_count": 15,
   "metadata": {},
   "outputs": [],
   "source": [
    "amzn_url = 'https://en.wikipedia.org/wiki/Amazon_(company)'\n",
    "h ={'User-Agent': 'Mozilla/5.0 (Windows NT 10.0; Win64; x64) AppleWebKit/537.36 (KHTML, like Gecko) Chrome/77.0.3865.120 Safari/537.36'}"
   ]
  },
  {
   "cell_type": "code",
   "execution_count": 16,
   "metadata": {},
   "outputs": [],
   "source": [
    "req = request.Request(amzn_url, headers = h)\n",
    "with request.urlopen(req) as r:\n",
    "    soup = BeautifulSoup(r, 'html.parser')"
   ]
  },
  {
   "cell_type": "code",
   "execution_count": 17,
   "metadata": {},
   "outputs": [],
   "source": [
    "amazon_parse = soup.findAll('div', {'class':'mw-body-content'})"
   ]
  },
  {
   "cell_type": "code",
   "execution_count": 18,
   "metadata": {},
   "outputs": [],
   "source": [
    "words = []\n",
    "for a in amazon_parse:\n",
    "    words.append(a.text.split())"
   ]
  },
  {
   "cell_type": "code",
   "execution_count": 19,
   "metadata": {},
   "outputs": [],
   "source": [
    "amzn_words_list = words[2]"
   ]
  },
  {
   "cell_type": "code",
   "execution_count": 20,
   "metadata": {},
   "outputs": [
    {
     "name": "stderr",
     "output_type": "stream",
     "text": [
      "[nltk_data] Downloading package stopwords to\n",
      "[nltk_data]     C:\\Users\\BrigitteKudor\\AppData\\Roaming\\nltk_data...\n",
      "[nltk_data]   Package stopwords is already up-to-date!\n"
     ]
    },
    {
     "data": {
      "text/plain": [
       "True"
      ]
     },
     "execution_count": 20,
     "metadata": {},
     "output_type": "execute_result"
    }
   ],
   "source": [
    "nltk.download('stopwords')"
   ]
  },
  {
   "cell_type": "code",
   "execution_count": 21,
   "metadata": {},
   "outputs": [],
   "source": [
    "stop = list(stopwords.words('english'))"
   ]
  },
  {
   "cell_type": "code",
   "execution_count": 22,
   "metadata": {},
   "outputs": [],
   "source": [
    "amzn_list = []\n",
    "for word in amzn_words_list:\n",
    "    w = re.sub(r\"[^A-Za-z]\",\"\", word)\n",
    "    if w != '':\n",
    "        amzn_list.append(w)"
   ]
  },
  {
   "cell_type": "code",
   "execution_count": 23,
   "metadata": {},
   "outputs": [],
   "source": [
    "def word_cleanser(your_list):\n",
    "    clean_list = []\n",
    "    for word in your_list:\n",
    "        w = re.sub(r\"[^A-Za-z]\",\"\", word)\n",
    "        if w != '':\n",
    "            clean_list.append(w)\n",
    "    return clean_list"
   ]
  },
  {
   "cell_type": "code",
   "execution_count": 24,
   "metadata": {},
   "outputs": [],
   "source": [
    "def remove_stopwords(word_list):\n",
    "        processed_word_list = []\n",
    "        for word in word_list:\n",
    "            word = word.lower() # in case they arenet all lower cased\n",
    "            if word not in stopwords.words(\"english\"):\n",
    "                processed_word_list.append(word)\n",
    "        return processed_word_list"
   ]
  },
  {
   "cell_type": "code",
   "execution_count": 25,
   "metadata": {},
   "outputs": [],
   "source": [
    "amzn_list = remove_stopwords(amzn_list)"
   ]
  },
  {
   "cell_type": "code",
   "execution_count": 26,
   "metadata": {},
   "outputs": [],
   "source": [
    "def top_10_words(your_list):\n",
    "    counter = Counter(your_list)\n",
    "    most_occur = counter.most_common(10)\n",
    "    return most_occur"
   ]
  },
  {
   "cell_type": "code",
   "execution_count": 73,
   "metadata": {},
   "outputs": [],
   "source": [
    "def top_words_as_list(your_list):\n",
    "    just_word = []\n",
    "    for elem in your_list:\n",
    "        elem = list(elem)\n",
    "        just_word.append(elem[0])\n",
    "    return just_word"
   ]
  },
  {
   "cell_type": "code",
   "execution_count": 45,
   "metadata": {},
   "outputs": [],
   "source": [
    "top_amzn = top_10_words(amzn_list)\n",
    "list_top_amzn = top_words_as_list(top_amzn)"
   ]
  },
  {
   "cell_type": "code",
   "execution_count": 46,
   "metadata": {},
   "outputs": [
    {
     "data": {
      "text/plain": [
       "['amazon',\n",
       " 'retrieved',\n",
       " 'amazoncom',\n",
       " 'february',\n",
       " 'company',\n",
       " 'sales',\n",
       " 'november',\n",
       " 'september',\n",
       " 'us',\n",
       " 'music']"
      ]
     },
     "execution_count": 46,
     "metadata": {},
     "output_type": "execute_result"
    }
   ],
   "source": [
    "list_top_amzn"
   ]
  },
  {
   "cell_type": "markdown",
   "metadata": {},
   "source": [
    "### Microsoft webscrape"
   ]
  },
  {
   "cell_type": "code",
   "execution_count": 39,
   "metadata": {},
   "outputs": [],
   "source": [
    "msft_url = 'https://en.wikipedia.org/wiki/Microsoft'\n",
    "h ={'User-Agent': 'Mozilla/5.0 (Windows NT 10.0; Win64; x64) AppleWebKit/537.36 (KHTML, like Gecko) Chrome/77.0.3865.120 Safari/537.36'}\n",
    "req = request.Request(msft_url, headers = h)\n",
    "with request.urlopen(req) as r:\n",
    "    soup = BeautifulSoup(r, 'html.parser')"
   ]
  },
  {
   "cell_type": "code",
   "execution_count": 40,
   "metadata": {},
   "outputs": [],
   "source": [
    "msft_parse =soup.findAll('div', {'id':'bodyContent'}) # soup.findAll('div', {'class':'mw-body-content'})\n",
    "words_msft = []\n",
    "for a in msft_parse:\n",
    "    words_msft.append(a.text.split())\n",
    "msft_word_list = words_msft[0]"
   ]
  },
  {
   "cell_type": "code",
   "execution_count": 41,
   "metadata": {},
   "outputs": [],
   "source": [
    "cleaned_msft = word_cleanser(msft_word_list)"
   ]
  },
  {
   "cell_type": "code",
   "execution_count": 42,
   "metadata": {},
   "outputs": [],
   "source": [
    "cleaned_msft2 = remove_stopwords(cleaned_msft)"
   ]
  },
  {
   "cell_type": "code",
   "execution_count": 43,
   "metadata": {},
   "outputs": [],
   "source": [
    "top_msft = top_10_words(cleaned_msft2)"
   ]
  },
  {
   "cell_type": "code",
   "execution_count": 44,
   "metadata": {},
   "outputs": [],
   "source": [
    "list_top_msft = top_words_as_list(top_msft)"
   ]
  },
  {
   "cell_type": "markdown",
   "metadata": {},
   "source": [
    "### Oracle webscrape"
   ]
  },
  {
   "cell_type": "code",
   "execution_count": 28,
   "metadata": {},
   "outputs": [],
   "source": [
    "orcl_url = 'https://en.wikipedia.org/wiki/Oracle_Corporation'\n",
    "h ={'User-Agent': 'Mozilla/5.0 (Windows NT 10.0; Win64; x64) AppleWebKit/537.36 (KHTML, like Gecko) Chrome/77.0.3865.120 Safari/537.36'}\n",
    "req = request.Request(orcl_url, headers = h)\n",
    "with request.urlopen(req) as r:\n",
    "    soup = BeautifulSoup(r, 'html.parser')"
   ]
  },
  {
   "cell_type": "code",
   "execution_count": 29,
   "metadata": {},
   "outputs": [],
   "source": [
    "orcl_parse =soup.findAll('div', {'id':'bodyContent'}) # soup.findAll('div', {'class':'mw-body-content'})\n",
    "words_orcl = []\n",
    "for a in orcl_parse:\n",
    "    words_orcl.append(a.text.split())\n",
    "orcl_word_list = words_orcl[0]"
   ]
  },
  {
   "cell_type": "code",
   "execution_count": 37,
   "metadata": {},
   "outputs": [],
   "source": [
    "cleaned_orcl = word_cleanser(orcl_word_list)\n",
    "cleaned_orcl2 = remove_stopwords(cleaned_orcl)\n",
    "top_orcl = top_10_words(cleaned_orcl2)\n",
    "list_top_orcl = top_words_as_list(top_orcl)"
   ]
  },
  {
   "cell_type": "code",
   "execution_count": null,
   "metadata": {},
   "outputs": [],
   "source": []
  },
  {
   "cell_type": "markdown",
   "metadata": {},
   "source": [
    "### SalesForce webscrape"
   ]
  },
  {
   "cell_type": "code",
   "execution_count": 31,
   "metadata": {},
   "outputs": [],
   "source": [
    "crm_url = 'https://en.wikipedia.org/wiki/Salesforce.com'\n",
    "h ={'User-Agent': 'Mozilla/5.0 (Windows NT 10.0; Win64; x64) AppleWebKit/537.36 (KHTML, like Gecko) Chrome/77.0.3865.120 Safari/537.36'}\n",
    "req = request.Request(crm_url, headers = h)\n",
    "with request.urlopen(req) as r:\n",
    "    soup = BeautifulSoup(r, 'html.parser')"
   ]
  },
  {
   "cell_type": "code",
   "execution_count": 32,
   "metadata": {},
   "outputs": [],
   "source": [
    "crm_parse =soup.findAll('div', {'id':'bodyContent'}) # soup.findAll('div', {'class':'mw-body-content'})\n",
    "words_crm = []\n",
    "for a in crm_parse:\n",
    "    words_crm.append(a.text.split())\n",
    "crm_word_list = words_crm[0]"
   ]
  },
  {
   "cell_type": "code",
   "execution_count": 36,
   "metadata": {},
   "outputs": [],
   "source": [
    "cleaned_crm = word_cleanser(crm_word_list)\n",
    "cleaned_crm2 = remove_stopwords(cleaned_crm)\n",
    "top_crm = top_10_words(cleaned_crm2)\n",
    "list_top_crm = top_words_as_list(top_crm)"
   ]
  },
  {
   "cell_type": "code",
   "execution_count": null,
   "metadata": {},
   "outputs": [],
   "source": [
    "list_top_crm"
   ]
  },
  {
   "cell_type": "code",
   "execution_count": 35,
   "metadata": {},
   "outputs": [],
   "source": []
  },
  {
   "cell_type": "code",
   "execution_count": null,
   "metadata": {},
   "outputs": [],
   "source": []
  },
  {
   "cell_type": "code",
   "execution_count": null,
   "metadata": {},
   "outputs": [],
   "source": []
  },
  {
   "cell_type": "code",
   "execution_count": null,
   "metadata": {},
   "outputs": [],
   "source": []
  },
  {
   "cell_type": "code",
   "execution_count": null,
   "metadata": {},
   "outputs": [],
   "source": []
  },
  {
   "cell_type": "code",
   "execution_count": null,
   "metadata": {},
   "outputs": [],
   "source": []
  },
  {
   "cell_type": "code",
   "execution_count": null,
   "metadata": {},
   "outputs": [],
   "source": []
  },
  {
   "cell_type": "code",
   "execution_count": null,
   "metadata": {},
   "outputs": [],
   "source": []
  }
 ],
 "metadata": {
  "kernelspec": {
   "display_name": "Python 3",
   "language": "python",
   "name": "python3"
  },
  "language_info": {
   "codemirror_mode": {
    "name": "ipython",
    "version": 3
   },
   "file_extension": ".py",
   "mimetype": "text/x-python",
   "name": "python",
   "nbconvert_exporter": "python",
   "pygments_lexer": "ipython3",
   "version": "3.6.4"
  }
 },
 "nbformat": 4,
 "nbformat_minor": 4
}
